{
  "nbformat": 4,
  "nbformat_minor": 0,
  "metadata": {
    "kernelspec": {
      "display_name": "Python 3",
      "language": "python",
      "name": "python3"
    },
    "language_info": {
      "codemirror_mode": {
        "name": "ipython",
        "version": 3
      },
      "file_extension": ".py",
      "mimetype": "text/x-python",
      "name": "python",
      "nbconvert_exporter": "python",
      "pygments_lexer": "ipython3",
      "version": "3.7.6"
    },
    "colab": {
      "name": "RedditScience.ipynb",
      "provenance": [],
      "collapsed_sections": [],
      "include_colab_link": true
    }
  },
  "cells": [
    {
      "cell_type": "markdown",
      "metadata": {
        "id": "view-in-github",
        "colab_type": "text"
      },
      "source": [
        "<a href=\"https://colab.research.google.com/github/SatenikS/reddit-text-classification/blob/main/reddit-science.ipynb\" target=\"_parent\"><img src=\"https://colab.research.google.com/assets/colab-badge.svg\" alt=\"Open In Colab\"/></a>"
      ]
    },
    {
      "cell_type": "markdown",
      "metadata": {
        "id": "wV-I2DcIY0ss"
      },
      "source": [
        "# **r/Sciences Post Classification with Interpretability**\n",
        "\n",
        "\n",
        "In this project I have created text classification models to classify Reddit posts  according to their topics. I use Local Interpretable Model-Agnostic Explanations ([lime](https://lime-ml.readthedocs.io/en/latest/index.html)) to generate explanations for the predictions.\n",
        "\n",
        "[r/Sciences](https://www.reddit.com/r/sciences/) subreddit is a great community to share and discuss new scientific research and read about the latest advances in astronomy, biology, medicine, physics, social science, and more."
      ]
    },
    {
      "cell_type": "code",
      "metadata": {
        "id": "xSs8nlDsYjfw"
      },
      "source": [
        "# Imports necessary libraries\n",
        "import numpy as np\n",
        "import pandas as pd\n",
        "from google.colab import drive\n",
        "import os\n",
        "import praw\n",
        "import time\n",
        "import seaborn as sns\n",
        "import matplotlib.pyplot as plt\n",
        "from sklearn.model_selection import train_test_split\n",
        "from sklearn.feature_extraction.text import TfidfVectorizer\n",
        "from sklearn.pipeline import make_pipeline\n",
        "from sklearn.linear_model import LogisticRegression\n",
        "from sklearn.naive_bayes import MultinomialNB\n",
        "from sklearn.linear_model import SGDClassifier\n",
        "from sklearn.metrics import accuracy_score, confusion_matrix\n",
        "import seaborn as sns\n",
        "from lime import lime_text\n",
        "from lime.lime_text import LimeTextExplainer\n",
        "import warnings\n",
        "warnings.filterwarnings(\"ignore\")"
      ],
      "execution_count": null,
      "outputs": []
    },
    {
      "cell_type": "code",
      "metadata": {
        "id": "5WDERfy4mc9D",
        "outputId": "75956682-62b9-4720-e17e-3a874ac53227",
        "colab": {
          "base_uri": "https://localhost:8080/",
          "height": 34
        }
      },
      "source": [
        "# Changes directory to my Google Drive folder\n",
        "drive.mount(\"/content/drive\", force_remount=True)\n",
        "os.chdir(\"/content/drive/My Drive/Colab Notebooks/Reddit/\")"
      ],
      "execution_count": null,
      "outputs": [
        {
          "output_type": "stream",
          "text": [
            "Mounted at /content/drive\n"
          ],
          "name": "stdout"
        }
      ]
    },
    {
      "cell_type": "code",
      "metadata": {
        "id": "TZGDs9lVYjf0"
      },
      "source": [
        "def add_or_update_posts(period=\"all\", limit=1000):\n",
        "    \"\"\"Downloads and saves Reddit posts for a given period.\n",
        "\n",
        "        Args:\n",
        "            period (str): Can be one of the following – all, day, hour, month, week, year\n",
        "            limit (int): Number of posts\n",
        "\n",
        "        Returns:\n",
        "            None\n",
        "    \"\"\"\n",
        "    # Initializes a Reddit instance using provided credentials\n",
        "    reddit = praw.Reddit(client_id=\"client_id\",\n",
        "                     client_secret=\"client_secret\",\n",
        "                     password=\"password\",\n",
        "                     user_agent=\"user_agent\",\n",
        "                     username=\"username\")\n",
        "    \n",
        "    # Loads the 'raw.csv' file. If it does not exist creates one.\n",
        "    if not os.path.isfile(\"raw.csv\"):\n",
        "        df = pd.DataFrame(columns=[\"id\", \"added_utc\", \"author.id\", \"author.name\",\n",
        "                                   \"edited\", \"created_utc\", \"link_flair_text\",\n",
        "                                   \"locked\", \"num_comments\", \"over_18\", \"permalink\",\n",
        "                                   \"title\", \"score\", \"upvote_ratio\"]) \n",
        "        df.to_csv(\"raw.csv\", index=False)\n",
        "    else:\n",
        "        df = pd.read_csv(\"raw.csv\")\n",
        "  \n",
        "    # Imports top posts from a subreddit called 'Science' \n",
        "    top_posts = reddit.subreddit(\"science\").top(period, limit=limit)\n",
        "\n",
        "    # Creates a list with the names of the columns of the dataframe\n",
        "    cols = df.columns.tolist()\n",
        "\n",
        "    # Appends all posts from top_posts if they are not present in the dataframe or have been edited since\n",
        "    for post in top_posts:\n",
        "        d = {}\n",
        "        if post.id not in df[\"id\"].values or post.edited > df.loc[df[\"id\"] == post.id, \"edited\"].iloc[0]:\n",
        "            for c in cols:\n",
        "                try: d[c] = eval(\"post.\" + c)\n",
        "                except: d[c] = None\n",
        "            d[\"added_utc\"] = round(time.time())\n",
        "            df.drop(df[df[\"id\"] == post.id].index, inplace=True)\n",
        "            df = df.append(d, ignore_index=True)\n",
        "\n",
        "    # Writes the dataframe to the csv file\n",
        "    df.to_csv(\"raw.csv\", index=False)"
      ],
      "execution_count": null,
      "outputs": []
    },
    {
      "cell_type": "code",
      "metadata": {
        "id": "p1ZU5X8hYjf2"
      },
      "source": [
        "# Downloads and saves top posts from the following periods – all/year/month/week \n",
        "for period in [\"all\", \"year\", \"month\", \"week\"]:\n",
        "    add_or_update_posts(period=period, limit = 1000)"
      ],
      "execution_count": null,
      "outputs": []
    },
    {
      "cell_type": "code",
      "metadata": {
        "id": "qKFOx4u_Yjf4",
        "outputId": "5d2b200e-dcd9-4a07-cde7-e89c5b12878b",
        "colab": {
          "base_uri": "https://localhost:8080/",
          "height": 34
        }
      },
      "source": [
        "# Loads all saved Reddit posts\n",
        "df = pd.read_csv(\"raw.csv\")\n",
        "\n",
        "# Prints the number of posts and columns\n",
        "df.shape"
      ],
      "execution_count": null,
      "outputs": [
        {
          "output_type": "execute_result",
          "data": {
            "text/plain": [
              "(3876, 14)"
            ]
          },
          "metadata": {
            "tags": []
          },
          "execution_count": 5
        }
      ]
    },
    {
      "cell_type": "code",
      "metadata": {
        "id": "rjZ3y-DoYjf7",
        "outputId": "403f24bc-d1bf-460f-b7a4-c03d39b19a6a",
        "colab": {
          "base_uri": "https://localhost:8080/",
          "height": 374
        }
      },
      "source": [
        "# Prints the counts of the top 20 most common flairs/subjects\n",
        "df[\"link_flair_text\"].value_counts().head(20)"
      ],
      "execution_count": null,
      "outputs": [
        {
          "output_type": "execute_result",
          "data": {
            "text/plain": [
              "Psychology          603\n",
              "Health              504\n",
              "Biology             388\n",
              "Medicine            365\n",
              "Environment         327\n",
              "Social Science      308\n",
              "Neuroscience        212\n",
              "Epidemiology        161\n",
              "Physics             140\n",
              "Astronomy           133\n",
              "Animal Science      128\n",
              "Anthropology         89\n",
              "Chemistry            85\n",
              "Engineering          83\n",
              "Computer Science     62\n",
              "Cancer               61\n",
              "Economics            55\n",
              "Paleontology         45\n",
              "Earth Science        43\n",
              "Nanoscience          32\n",
              "Name: link_flair_text, dtype: int64"
            ]
          },
          "metadata": {
            "tags": []
          },
          "execution_count": 6
        }
      ]
    },
    {
      "cell_type": "code",
      "metadata": {
        "id": "CijS0yuCYjf9"
      },
      "source": [
        "# Remove all posts with subjects that have less than 100 posts\n",
        "unique_flairs = df[\"link_flair_text\"].value_counts()\n",
        "df = df[df[\"link_flair_text\"].isin(unique_flairs.index[unique_flairs>100])]"
      ],
      "execution_count": null,
      "outputs": []
    },
    {
      "cell_type": "code",
      "metadata": {
        "id": "r8prNeXqYjgC",
        "outputId": "51a6a01f-293a-46b5-f1df-892898fecaad",
        "colab": {
          "base_uri": "https://localhost:8080/",
          "height": 221
        }
      },
      "source": [
        "# Prints the counts of remaining subjects\n",
        "df[\"link_flair_text\"].value_counts()"
      ],
      "execution_count": null,
      "outputs": [
        {
          "output_type": "execute_result",
          "data": {
            "text/plain": [
              "Psychology        603\n",
              "Health            504\n",
              "Biology           388\n",
              "Medicine          365\n",
              "Environment       327\n",
              "Social Science    308\n",
              "Neuroscience      212\n",
              "Epidemiology      161\n",
              "Physics           140\n",
              "Astronomy         133\n",
              "Animal Science    128\n",
              "Name: link_flair_text, dtype: int64"
            ]
          },
          "metadata": {
            "tags": []
          },
          "execution_count": 8
        }
      ]
    },
    {
      "cell_type": "code",
      "metadata": {
        "id": "plTPpWhWYjgF",
        "outputId": "9a52d70d-c0bb-447f-fbe2-d8369a56aa93",
        "colab": {
          "base_uri": "https://localhost:8080/",
          "height": 238
        }
      },
      "source": [
        "# Prints the average upvote ratio for each subject\n",
        "df.groupby(\"link_flair_text\")[\"upvote_ratio\"].mean().sort_values(ascending=False)"
      ],
      "execution_count": null,
      "outputs": [
        {
          "output_type": "execute_result",
          "data": {
            "text/plain": [
              "link_flair_text\n",
              "Neuroscience      0.869104\n",
              "Animal Science    0.863984\n",
              "Environment       0.859511\n",
              "Psychology        0.856534\n",
              "Health            0.849028\n",
              "Medicine          0.845233\n",
              "Biology           0.844201\n",
              "Astronomy         0.836466\n",
              "Epidemiology      0.826398\n",
              "Physics           0.826143\n",
              "Social Science    0.823344\n",
              "Name: upvote_ratio, dtype: float64"
            ]
          },
          "metadata": {
            "tags": []
          },
          "execution_count": 9
        }
      ]
    },
    {
      "cell_type": "code",
      "metadata": {
        "id": "v1kJ_eeUYjgH",
        "outputId": "7ab0b031-2a49-489d-e276-8f9c44eb7343",
        "colab": {
          "base_uri": "https://localhost:8080/",
          "height": 350
        }
      },
      "source": [
        "# Plots the distributions of upvote ratios by subject\n",
        "fig, axs = plt.subplots(ncols=2, figsize=(15,5))\n",
        "g1 = sns.kdeplot(df[\"upvote_ratio\"], label=\"\", ax=axs[0])  \n",
        "for flair in df.groupby(\"link_flair_text\")[\"upvote_ratio\"].mean().sort_values(ascending=False).index.tolist():\n",
        "    g2 = sns.kdeplot(df.loc[df[\"link_flair_text\"] == flair, \"upvote_ratio\"], label=flair, ax=axs[1])  \n",
        "g1.set(xlim=(0,1), title=\"All Posts\", xlabel=\"Upvote ratio\", ylabel=\"Density\")\n",
        "g2.set(xlim=(0,1), title=\"Posts by Flair\", xlabel=\"Upvote ratio\", ylabel=\"Density\")\n",
        "fig.show()"
      ],
      "execution_count": null,
      "outputs": [
        {
          "output_type": "display_data",
          "data": {
            "image/png": "[encoded data removed]",
            "text/plain": [
              "<Figure size 1080x360 with 2 Axes>"
            ]
          },
          "metadata": {
            "tags": [],
            "needs_background": "light"
          }
        }
      ]
    }
  ]
}